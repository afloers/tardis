{
 "cells": [
  {
   "cell_type": "code",
   "execution_count": 3,
   "metadata": {},
   "outputs": [],
   "source": [
    "import numpy as np\n",
    "from tardis import constants as const\n",
    "from astropy import units as u\n",
    "from tardis.montecarlo import packet_source"
   ]
  },
  {
   "cell_type": "code",
   "execution_count": 5,
   "metadata": {},
   "outputs": [
    {
     "ename": "AttributeError",
     "evalue": "module 'tardis.montecarlo.packet_source' has no attribute 'BasePacketSource'",
     "output_type": "error",
     "traceback": [
      "\u001b[0;31m---------------------------------------------------------------------------\u001b[0m",
      "\u001b[0;31mAttributeError\u001b[0m                            Traceback (most recent call last)",
      "\u001b[0;32m<ipython-input-5-20b5dfc9eabf>\u001b[0m in \u001b[0;36m<module>\u001b[0;34m\u001b[0m\n\u001b[0;32m----> 1\u001b[0;31m \u001b[0;32mclass\u001b[0m \u001b[0mTruncBlackbodySource\u001b[0m\u001b[0;34m(\u001b[0m\u001b[0mpacket_source\u001b[0m\u001b[0;34m.\u001b[0m\u001b[0mBasePacketSource\u001b[0m\u001b[0;34m)\u001b[0m\u001b[0;34m:\u001b[0m\u001b[0;34m\u001b[0m\u001b[0;34m\u001b[0m\u001b[0m\n\u001b[0m\u001b[1;32m      2\u001b[0m \u001b[0;34m\u001b[0m\u001b[0m\n\u001b[1;32m      3\u001b[0m \u001b[0;34m\u001b[0m\u001b[0m\n\u001b[1;32m      4\u001b[0m     \"\"\"\n\u001b[1;32m      5\u001b[0m         \u001b[0mCustom\u001b[0m \u001b[0minner\u001b[0m \u001b[0mboundary\u001b[0m \u001b[0msource\u001b[0m \u001b[0;32mclass\u001b[0m \u001b[0mto\u001b[0m \u001b[0mreplace\u001b[0m \u001b[0mthe\u001b[0m \u001b[0mBlackbody\u001b[0m \u001b[0msource\u001b[0m\u001b[0;34m\u001b[0m\u001b[0;34m\u001b[0m\u001b[0m\n",
      "\u001b[0;31mAttributeError\u001b[0m: module 'tardis.montecarlo.packet_source' has no attribute 'BasePacketSource'"
     ]
    }
   ],
   "source": [
    "class TruncBlackbodySource(packet_source.BasePacketSource):\n",
    "    \n",
    "\n",
    "    \"\"\"\n",
    "        Custom inner boundary source class to replace the Blackbody source\n",
    "        with a truncated Blackbody source.\n",
    "    \"\"\"\n",
    "    \n",
    "    def create_packets(self, T, no_of_packets, truncation_wavelength, drawing_sample_size=None):\n",
    "        \"\"\"\n",
    "        Packet source that generates a truncated Blackbody source.\n",
    "        \n",
    "        Parameters\n",
    "        ----------\n",
    "        T : float\n",
    "            Blackbody temperature\n",
    "        no_of_packets : int\n",
    "            number of packets to be created\n",
    "        truncation_wavelength : float\n",
    "            truncation wavelength in Angstrom. \n",
    "            Only wavelengths higher than the truncation wavelength will be sampled.\n",
    "        \"\"\"\n",
    "        \n",
    "        mus = self.create_zero_limb_darkening_packet_mus(no_of_packets)\n",
    "        energies = self.create_packet_energies(no_of_packets)\n",
    "\n",
    "        if drawing_sample_size is None:\n",
    "            drawing_sample_size = 2 * no_of_packets\n",
    "        truncation_frequency = u.Quantity(truncation_wavelength, u.Angstrom).to(\n",
    "                                          u.Hz, equivalencies=u.spectral()).value\n",
    "        \n",
    "        nus = create_blackbody_packet_nus(T, drawing_sample_size)\n",
    "        nus = nus[nus<truncation_frequency][:no_of_packets]\n",
    "        \n",
    "        while nus.shape[0] < no_of_packets:\n",
    "            additional_nus = create_blackbody_packet_nus(T, drawing_sample_size)\n",
    "            additional_nus = additional_nus[nus<truncation_frequency][:no_of_packets]\n",
    "            nus.concatenate((nus, additional_nus))[:no_of_packets]\n",
    "            \n",
    "        return nus, mus, energies\n",
    "    "
   ]
  },
  {
   "cell_type": "code",
   "execution_count": null,
   "metadata": {},
   "outputs": [],
   "source": []
  }
 ],
 "metadata": {
  "kernelspec": {
   "display_name": "Python 3",
   "language": "python",
   "name": "python3"
  },
  "language_info": {
   "codemirror_mode": {
    "name": "ipython",
    "version": 3
   },
   "file_extension": ".py",
   "mimetype": "text/x-python",
   "name": "python",
   "nbconvert_exporter": "python",
   "pygments_lexer": "ipython3",
   "version": "3.6.7"
  }
 },
 "nbformat": 4,
 "nbformat_minor": 2
}
